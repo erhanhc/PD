{
 "cells": [
  {
   "cell_type": "markdown",
   "metadata": {
    "ipub": {
     "titlepage": {
      "author": "Authors Name",
      "email": "authors@email.com",
      "institution": [
       "Institution1",
       "Institution2"
      ],
      "logo": "path/to/logo_example.png",
      "subtitle": "Sub-Title",
      "supervisors": [
       "First Supervisor",
       "Second Supervisor"
      ],
      "tagline": "A tagline for the report.",
      "title": "Main-Title"
     }
    }
   },
   "source": [
    "# PD Notebook"
   ]
  },
  {
   "cell_type": "markdown",
   "metadata": {},
   "source": [
    "## Attributes of Peridynamic Material Points:"
   ]
  },
  {
   "cell_type": "markdown",
   "metadata": {},
   "source": [
    "|Variable Name|Description|Symbol|\n",
    "|:------------|:-----------|:-----|\n",
    "|coord|Components of position in x and y|$x$|\n",
    "|volume|Cubic Volume of PD point|$V$|\n",
    "|disp|Components of displacement in x and y|$u$|\n",
    "|SED|Strain Energy Density of PD point|$W$|\n",
    "|Dilatation|Dilatation of PD Point|$\\theta$|\n",
    "|pforce|Summation of PD forces due to interactions|$$\\sum_{j=1}^{N}(t_{ij})-t_{ji})V_j$$|\n",
    "|bforce|Body force over PD point|$b$|\n",
    "|vel|Components of velocity at nth iteration  in x and y|$\\dot{u}^{n}$|\n",
    "|velhalf|Components of velocity at (n+1/2)th iteration  in x and y|$\\dot{u}^{n+1/2}$|\n",
    "|massvec|Diagonal Components of Fictitious Mass Matrix|$\\lambda_{ii}$|\n",
    "|S,D|Surface Correction Terms of SED and Dilatationfor their corresponding Loading Conditions|$D_i, S_i$|\n",
    "|old|Stored components of previous iterations|$()^{n-1}$"
   ]
  },
  {
   "cell_type": "markdown",
   "metadata": {},
   "source": [
    "![title](fig1.jpg)"
   ]
  },
  {
   "cell_type": "code",
   "execution_count": 1,
   "metadata": {},
   "outputs": [],
   "source": [
    "def get_neighbors(df,current_id,horizon):\n",
    "    distance=((df.coordx-df.loc[current_id].coordx)**2+(df.coordy-df.loc[current_id].coordy)**2)**0.5\n",
    "    neighbor_ids = distance[distance<=horizon].index\n",
    "    neighbor_ids=neighbor_ids.drop(current_id)\n",
    "    idist = ((df.loc[neighbor_ids].coordx-df.loc[current_id].coordx)**2+(df.loc[neighbor_ids].coordy-df.loc[current_id].coordy)**2)**0.5\n",
    "    idist.name = 'idist'\n",
    "    return neighbor_ids,idist"
   ]
  },
  {
   "cell_type": "code",
   "execution_count": 2,
   "metadata": {},
   "outputs": [],
   "source": [
    "def compute_nlength(df,current_id,neighbor_ids):\n",
    "    nlength = (((df.loc[current_id].coordx + df.loc[current_id].dispx)-(df.loc[neighbor_ids].coordx + df.loc[neighbor_ids].dispx))**2+((df.loc[current_id].coordy + df.loc[current_id].dispy)-(df.loc[neighbor_ids].coordy + df.loc[neighbor_ids].dispy))**2)\n",
    "    nlength.name = 'nlength'\n",
    "    return nlength"
   ]
  },
  {
   "cell_type": "markdown",
   "metadata": {},
   "source": [
    "![title](fig2.jpg)"
   ]
  },
  {
   "cell_type": "code",
   "execution_count": 3,
   "metadata": {},
   "outputs": [],
   "source": [
    "def compute_stretch(nlength,idist):\n",
    "    stretch = nlength/idist\n",
    "    stretch.name = 'stretch'\n",
    "    return stretch"
   ]
  },
  {
   "cell_type": "markdown",
   "metadata": {},
   "source": [
    "![title](fig3.png)"
   ]
  },
  {
   "cell_type": "markdown",
   "metadata": {},
   "source": [
    "![title](fig4.png)"
   ]
  },
  {
   "cell_type": "code",
   "execution_count": 4,
   "metadata": {},
   "outputs": [],
   "source": [
    "def compute_fac_volume_cor(idist,horizon,delta):\n",
    "    r = delta/2\n",
    "    fac_volume_corr=pandas.Series(index=idist.index,dtype='float32')\n",
    "    fac_volume_corr[idist[idist<=horizon-r].index]=1.\n",
    "    fac_volume_corr[idist[idist>horizon-r][idist[idist>horizon-r]<=horizon+r].index]=(horizon+r)-idist.loc[idist[idist>horizon-r][idist[idist>horizon-r]<=horizon+r].index]/2/r\n",
    "    fac_volume_corr[idist[idist>horizon+r].index]=0.\n",
    "    fac_volume_corr.name = 'fac_volume_corr'\n",
    "    return fac_volume_corr"
   ]
  },
  {
   "cell_type": "markdown",
   "metadata": {},
   "source": [
    "![title](fig5.png)"
   ]
  },
  {
   "cell_type": "code",
   "execution_count": 5,
   "metadata": {},
   "outputs": [],
   "source": [
    "def compute_Lambda(df,current_id,neighbor_ids,idist,nlength):\n",
    "    ykx=(df.loc[current_id].dispx+df.loc[current_id].coordx)\n",
    "    yky=(df.loc[current_id].dispy+df.loc[current_id].coordy)\n",
    "    yjx=(df.loc[neighbor_ids].dispx+df.loc[neighbor_ids].coordx)\n",
    "    yjy=(df.loc[neighbor_ids].dispy+df.loc[neighbor_ids].coordy)\n",
    "    xkx=(df.loc[current_id].coordx)\n",
    "    xky=(df.loc[current_id].coordy)\n",
    "    xjx=(df.loc[neighbor_ids].coordx)\n",
    "    xjy=(df.loc[neighbor_ids].coordy)\n",
    "    Lambda=((yjx-ykx)*(xjx-xkx)+(yjy-yky)*(xjy-xky))/idist/nlength\n",
    "    Lambda.name = 'Lambda'\n",
    "    return Lambda"
   ]
  },
  {
   "cell_type": "markdown",
   "metadata": {},
   "source": [
    "![title](fig6.png)"
   ]
  },
  {
   "cell_type": "markdown",
   "metadata": {},
   "source": [
    "![title](fig7.png)"
   ]
  },
  {
   "cell_type": "code",
   "execution_count": 6,
   "metadata": {},
   "outputs": [],
   "source": [
    "def compute_Dilatation(df,current_id,neighbor_ids,stretch,fac_volume_corr,Lambda,horizon,d):\n",
    "    Dilatation = horizon*d*Lambda*stretch*df.loc[neighbor_ids].volume * fac_volume_corr\n",
    "    Dilatation.name = 'Dilatation'\n",
    "    return Dilatation"
   ]
  },
  {
   "cell_type": "markdown",
   "metadata": {},
   "source": [
    "![title](fig8.png)"
   ]
  },
  {
   "cell_type": "code",
   "execution_count": 7,
   "metadata": {},
   "outputs": [],
   "source": [
    "def compute_SED(df,current_id,neighbor_ids,nlength,idist,fac_volume_corr,horizon,b,Dilatation,a):\n",
    "    SED = horizon*b*((nlength-idist))**2 /idist * df.loc[neighbor_ids].volume*fac_volume_corr\n",
    "    SED.name = 'SED'\n",
    "    return SED"
   ]
  },
  {
   "cell_type": "code",
   "execution_count": 8,
   "metadata": {},
   "outputs": [],
   "source": [
    "def construct_dfn(idist,nlength,stretch,fac_volume_corr,Lambda,Dilatation,SED):\n",
    "    dfn = pandas.DataFrame()\n",
    "    dfn[idist.name]=idist\n",
    "    dfn[nlength.name]=nlength\n",
    "    dfn[fac_volume_corr.name]=fac_volume_corr\n",
    "    dfn[Lambda.name]=Lambda\n",
    "    dfn[Dilatation.name]=Dilatation\n",
    "    dfn[SED.name]=SED\n",
    "    return dfn"
   ]
  },
  {
   "cell_type": "markdown",
   "metadata": {},
   "source": [
    "![title](fig9.png)"
   ]
  },
  {
   "cell_type": "code",
   "execution_count": 9,
   "metadata": {},
   "outputs": [],
   "source": [
    "def set_surface_correction_factors(df,current_id,condition,disp_grad,SED):\n",
    "    if condition=='uniaxial stretch x':\n",
    "        df.loc[current_id].D1 = disp_grad / df.loc[current_id].Dilatation\n",
    "        df.loc[current_id].Dilatation = df.loc[current_id].Dilatation *df.loc[current_id].D1 \n",
    "    elif condition=='uniaxial stretch y':\n",
    "        df.loc[current_id].D2 = disp_grad / df.loc[current_id].Dilatation\n",
    "        df.loc[current_id].Dilatation = df.loc[current_id].Dilatation *df.loc[current_id].D2 \n",
    "    elif condition=='simple shear in x-y':\n",
    "        df.loc[current_id].S1 = 0.5*disp_grad**2*mu / SED.sum()\n",
    "        df.loc[current_id].S2 = 0.5*disp_grad**2*mu / SED.sum()\n",
    "        df.loc[current_id].SED = SED.sum()*df.loc[current_id].S1"
   ]
  },
  {
   "cell_type": "code",
   "execution_count": 10,
   "metadata": {},
   "outputs": [],
   "source": [
    "def preprocess(df,condition_list,disp_grad):\n",
    "    for condition in condition_list:\n",
    "        set_loading_condition(condition,df,disp_grad)\n",
    "        for current_id in df.index:\n",
    "            neighbor_ids,idist=get_neighbors(df,current_id,horizon)\n",
    "            nlength=compute_nlength(df,current_id,neighbor_ids)\n",
    "            stretch=compute_stretch(nlength,idist)\n",
    "            fac_volume_corr=compute_fac_volume_cor(idist,horizon,delta)\n",
    "            Lambda=compute_Lambda(df,current_id,neighbor_ids,idist,nlength)\n",
    "            Dilatation=compute_Dilatation(df,current_id,neighbor_ids,stretch,fac_volume_corr,Lambda,horizon,d)\n",
    "            df.loc[current_id].Dilatation= Dilatation.sum()\n",
    "            SED=compute_SED(df,current_id,neighbor_ids,nlength,idist,fac_volume_corr,horizon,b,Dilatation,a)\n",
    "            df.loc[current_id].SED = a*Dilatation.sum()**2 + SED.sum()\n",
    "            dfn=construct_dfn(idist,nlength,stretch,fac_volume_corr,Lambda,Dilatation,SED)\n",
    "            set_surface_correction_factors(df,current_id,condition,disp_grad,SED)"
   ]
  },
  {
   "cell_type": "code",
   "execution_count": 11,
   "metadata": {},
   "outputs": [],
   "source": [
    "def surface_correction_vector(df,current_id,neighbor_ids,idist):\n",
    "    gdx=(df.loc[current_id].D1 + df.loc[neighbor_ids].D1)*0.5\n",
    "    gdy=(df.loc[current_id].D2 + df.loc[neighbor_ids].D2)*0.5\n",
    "    gbx=(df.loc[current_id].S1 + df.loc[neighbor_ids].S1)*0.5\n",
    "    gby=gbx\n",
    "    nx=(df.loc[neighbor_ids].coordx-df.loc[current_id].coordx)/idist\n",
    "    ny=(df.loc[neighbor_ids].coordy-df.loc[current_id].coordy)/idist\n",
    "    Gd=((nx/gdx)**2+(ny/gdy)**2)**-0.5\n",
    "    Gb=((nx/gbx)**2+(ny/gby)**2)**-0.5\n",
    "    return Gd,Gd"
   ]
  },
  {
   "cell_type": "code",
   "execution_count": 12,
   "metadata": {},
   "outputs": [],
   "source": [
    "def preprocess_with_SCF(df):\n",
    "    for current_id in df.index:\n",
    "        neighbor_ids,idist=get_neighbors(df,current_id,horizon)\n",
    "        Gd, Gb =surface_correction_vector(df,current_id,neighbor_ids,idist)\n",
    "        nlength=compute_nlength(df,current_id,neighbor_ids)\n",
    "        stretch=compute_stretch(nlength,idist)\n",
    "        fac_volume_corr=compute_fac_volume_cor(idist,horizon,delta)\n",
    "        Lambda=compute_Lambda(df,current_id,neighbor_ids,idist,nlength)\n",
    "        Dilatation=compute_Dilatation(df,current_id,neighbor_ids,stretch,fac_volume_corr,Lambda,horizon,d)\n",
    "        Dilatation = Dilatation * Gd\n",
    "        df.loc[current_id].Dilatation= Dilatation.sum()\n",
    "        SED=compute_SED(df,current_id,neighbor_ids,nlength,idist,fac_volume_corr,horizon,b,Dilatation,a)\n",
    "        SED = SED*Gb\n",
    "        df.loc[current_id].SED = a*Dilatation.sum()**2 + SED.sum()\n",
    "        dfn=construct_dfn(idist,nlength,stretch,fac_volume_corr,Lambda,Dilatation,SED)"
   ]
  },
  {
   "cell_type": "code",
   "execution_count": 13,
   "metadata": {},
   "outputs": [],
   "source": [
    "def compute_PD_forces(df,current_id,neighbor_ids,idist,nlength,stretch,fac_volume_corr,Lambda):\n",
    "    A = 2*horizon*(d*Lambda/idist*(a*df.loc[current_id].Dilatation)+b*(stretch))\n",
    "    A.name = 'A'\n",
    "    B = 2*horizon*(d*Lambda/idist*(a*df.loc[neighbor_ids].Dilatation)+b*(stretch))\n",
    "    delyx =(df.loc[neighbor_ids].dispx +df.loc[neighbor_ids].coordx - (df.loc[current_id].dispx+df.loc[current_id].coordx))\n",
    "    delyy = (df.loc[neighbor_ids].dispy +df.loc[neighbor_ids].coordy - (df.loc[current_id].dispy+df.loc[current_id].coordy))\n",
    "    tkjx = 0.5 * A * delyx/nlength\n",
    "    tkjy = 0.5 * A * delyy/nlength\n",
    "    tjkx = -0.5 * B * delyx/nlength\n",
    "    tjky = -0.5 * B * delyy/nlength\n",
    "    pforcex = ((tkjx-tjkx)*fac_volume_corr*df.loc[neighbor_ids].volume).sum()\n",
    "    pforcey = ((tkjy-tjky)*fac_volume_corr*df.loc[neighbor_ids].volume).sum()\n",
    "    return pforcex, pforcey"
   ]
  },
  {
   "cell_type": "code",
   "execution_count": 14,
   "metadata": {},
   "outputs": [],
   "source": [
    "def compute_stable_mass_vector(df,horizon,current_id,neighbor_ids,idist,fac_volume_corr,dt,a,b,safety_factor):\n",
    "    Kijx = numpy.abs(df.loc[neighbor_ids].coordx-df.loc[current_id].coordx)/idist/idist * 4 * horizon * (0.5 * a * d**2 * horizon / idist * (df.loc[current_id].volume + df.loc[neighbor_ids].volume*fac_volume_corr)+b)\n",
    "    Kijy = numpy.abs(df.loc[neighbor_ids].coordy-df.loc[current_id].coordy)/idist/idist * 4 * horizon * (0.5 * a * d**2 * horizon / idist * (df.loc[current_id].volume + df.loc[neighbor_ids].volume*fac_volume_corr)+b)\n",
    "    massvecx = safety_factor*0.25*dt**2*Kijx.sum()\n",
    "    massvecy = safety_factor*0.25*dt**2*Kijy.sum()\n",
    "    return massvecx, massvecy"
   ]
  },
  {
   "cell_type": "code",
   "execution_count": 15,
   "metadata": {},
   "outputs": [],
   "source": [
    "def compute_damping_coeff(df,dt):\n",
    "    cn=0.\n",
    "    cn_num=0.\n",
    "    cn_denom=0.\n",
    "    for current_id in df.index:\n",
    "        if (df.loc[current_id].velhalfoldx!=0.):\n",
    "            Kiix = -(df.loc[current_id].pforcex - df.loc[current_id].pforceoldx)/df.loc[current_id].massvecx/dt/df.loc[current_id].velhalfoldx\n",
    "            cn_num=cn_num + df.loc[current_id].dispx*Kiix*df.loc[current_id].dispx\n",
    "        if (df.loc[current_id].velhalfoldy!=0.):\n",
    "            Kiiy = -(df.loc[current_id].pforcey - df.loc[current_id].pforceoldy)/df.loc[current_id].massvecy/dt/df.loc[current_id].velhalfoldy\n",
    "            cn_num=cn_num + df.loc[current_id].dispy*Kiiy*df.loc[current_id].dispy\n",
    "        cn_denom=cn_denom+df.loc[current_id].dispx**2\n",
    "        cn_denom=cn_denom+df.loc[current_id].dispy**2\n",
    "    if (cn_denom!=0.):\n",
    "        if ((cn_num/cn_denom)>0.):\n",
    "            cn = 2 * (cn_num/cn_denom)**0.5\n",
    "        else:\n",
    "            cn=0.\n",
    "    else:\n",
    "        cn=0.\n",
    "    if (cn>2.):\n",
    "        cn=1.9\n",
    "    return cn"
   ]
  },
  {
   "cell_type": "code",
   "execution_count": 16,
   "metadata": {},
   "outputs": [],
   "source": [
    "def apply_ADR(df,tt,dt,cn):\n",
    "    for current_id in df.index:\n",
    "        if(tt==1):\n",
    "            df.loc[current_id].velhalfx = dt * (df.loc[current_id].pforcex+df.loc[current_id].bforcex)/df.loc[current_id].massvecx/2\n",
    "            df.loc[current_id].velhalfy = dt * (df.loc[current_id].pforcey+df.loc[current_id].bforcey)/df.loc[current_id].massvecy/2\n",
    "        else:\n",
    "            df.loc[current_id].velhalfx = ((2.0 - cn * dt)*df.loc[current_id].velhalfoldx+2*dt*(df.loc[current_id].pforcex+df.loc[current_id].bforcex)/df.loc[current_id].massvecx)/(2+cn*dt)\n",
    "            df.loc[current_id].velhalfy = ((2.0 - cn * dt)*df.loc[current_id].velhalfoldy+2*dt*(df.loc[current_id].pforcey+df.loc[current_id].bforcey)/df.loc[current_id].massvecy)/(2+cn*dt)\n",
    "        df.loc[current_id].velx = (df.loc[current_id].velhalfoldx+df.loc[current_id].velhalfx)*0.5\n",
    "        df.loc[current_id].vely = (df.loc[current_id].velhalfoldy+df.loc[current_id].velhalfy)*0.5\n",
    "        df.loc[current_id].dispx=(df.loc[current_id].dispx+df.loc[current_id].velx*dt)\n",
    "        df.loc[current_id].dispy=(df.loc[current_id].dispy+df.loc[current_id].vely*dt)\n",
    "        df.loc[current_id].velhalfoldx = df.loc[current_id].velhalfx\n",
    "        df.loc[current_id].velhalfoldy = df.loc[current_id].velhalfy\n",
    "        df.loc[current_id].pforceoldx = df.loc[current_id].pforcex\n",
    "        df.loc[current_id].pforceoldy = df.loc[current_id].pforcey"
   ]
  },
  {
   "cell_type": "code",
   "execution_count": 17,
   "metadata": {},
   "outputs": [],
   "source": [
    "def iterate(df,ibcs,dt,max_iter,applied):\n",
    "    set_loading_condition(ibcs,df,applied)\n",
    "    for tt in range(1,max_iter+dt,dt):\n",
    "        if numpy.mod(tt,50)==0:\n",
    "            print(df)\n",
    "        preprocess_with_SCF(df)\n",
    "        print(tt)\n",
    "        for current_id in df.index:\n",
    "            neighbor_ids,idist=get_neighbors(df,current_id,horizon)\n",
    "            nlength=compute_nlength(df,current_id,neighbor_ids)\n",
    "            stretch=compute_stretch(nlength,idist)\n",
    "            fac_volume_corr=compute_fac_volume_cor(idist,horizon,delta)\n",
    "            Lambda=compute_Lambda(df,current_id,neighbor_ids,idist,nlength)\n",
    "            pforcex, pforcey = compute_PD_forces(df,current_id,neighbor_ids,idist,nlength,stretch,fac_volume_corr,Lambda)\n",
    "            df.loc[current_id].pforcex = pforcex\n",
    "            df.loc[current_id].pforcey = pforcey\n",
    "            massvecx, massvecy = compute_stable_mass_vector(df,horizon,current_id,neighbor_ids,idist,fac_volume_corr,dt,a,b,safety_factor=5)\n",
    "            df.loc[current_id].massvecx = massvecx\n",
    "            df.loc[current_id].massvecy = massvecy\n",
    "        cn = compute_damping_coeff(df,dt)\n",
    "        apply_ADR(df,tt,dt,cn)"
   ]
  },
  {
   "cell_type": "markdown",
   "metadata": {},
   "source": [
    "## Memory allocation with dummy values"
   ]
  },
  {
   "cell_type": "code",
   "execution_count": null,
   "metadata": {},
   "outputs": [],
   "source": [
    "import pandas, numpy, matplotlib\n",
    "columns = ['coordx','coordy','volume','dispx','dispy','SED','Dilatation','D1','D2','S1','S2','pforcex','pforcey','bforcex','bforcey','massvecx','massvecy','pforceoldx','pforceoldy','velhalfoldx','velhalfoldy','velx','vely','velhalfx','velhalfy']\n",
    "number_of_pd_points_per_edge = 30\n",
    "#30x30 Collocation points with all attributes equal to -99999. with datatype float32\n",
    "df = pandas.DataFrame(-99999*numpy.ones((number_of_pd_points_per_edge**2,len(columns)),dtype='float32'),columns=columns)\n"
   ]
  },
  {
   "cell_type": "markdown",
   "metadata": {},
   "source": [
    "## Initializing Collocation Points with above Attributes"
   ]
  },
  {
   "cell_type": "markdown",
   "metadata": {},
   "source": [
    "### Setting up a grid 30x30 with $\\Delta = \\Delta_{x} = \\Delta_{y} = 1.$ and thickness = $10. \\times \\Delta$"
   ]
  },
  {
   "cell_type": "code",
   "execution_count": null,
   "metadata": {},
   "outputs": [],
   "source": [
    "current_id = 0\n",
    "delta=1.\n",
    "horizon = 3.015 * delta\n",
    "dt = 1.\n",
    "thickness = 10*delta\n",
    "for i in range(0,number_of_pd_points_per_edge):\n",
    "    for j in range(0,number_of_pd_points_per_edge):\n",
    "        df.loc[current_id].coordx = i*delta\n",
    "        df.loc[current_id].coordy = j*delta\n",
    "        df.loc[current_id].volume = delta**2 * thickness\n",
    "        current_id = current_id+1\n"
   ]
  },
  {
   "cell_type": "markdown",
   "metadata": {},
   "source": [
    "### PD Material Properties for 2D Isotropic Structures"
   ]
  },
  {
   "cell_type": "code",
   "execution_count": null,
   "metadata": {},
   "outputs": [],
   "source": [
    "E = 200\n",
    "nu = 1/3\n",
    "kappa = E/3/(1-2*nu)\n",
    "mu = E/2/(1+nu)\n",
    "a = 0.5 * (kappa - 2*mu)\n",
    "b = 6*mu/numpy.pi/thickness/horizon**4\n",
    "d = 2 / numpy.pi/thickness/horizon**3"
   ]
  },
  {
   "cell_type": "markdown",
   "metadata": {},
   "source": [
    "### Loading Conditions for Calculation of Surface Corrections and Testing the Model"
   ]
  },
  {
   "cell_type": "code",
   "execution_count": 22,
   "metadata": {},
   "outputs": [],
   "source": [
    "def set_loading_condition(condition,df,applied):\n",
    "    if condition == 'uniaxial stretch x':\n",
    "        for id in df.index:\n",
    "            df.loc[id].dispx = applied* df.loc[id].coordx\n",
    "            df.loc[id].dispy = 0.\n",
    "            df.loc[id].bforcex = 0.\n",
    "            df.loc[id].bforcey = 0.   \n",
    "            df.loc[id].velx = 0.\n",
    "            df.loc[id].vely = 0.\n",
    "            df.loc[id].velhalfx = 0.\n",
    "            df.loc[id].velhalfy = 0.\n",
    "            df.loc[id].velhalfoldx= 0.\n",
    "            df.loc[id].velhalfoldy= 0.\n",
    "    if condition == 'uniaxial stretch y':\n",
    "        for id in df.index:\n",
    "            df.loc[id].dispx = 0.\n",
    "            df.loc[id].dispy = applied* df.loc[id].coordy\n",
    "            df.loc[id].bforcex = 0.\n",
    "            df.loc[id].bforcey = 0.   \n",
    "            df.loc[id].velx = 0.\n",
    "            df.loc[id].vely = 0.\n",
    "            df.loc[id].velhalfx = 0.\n",
    "            df.loc[id].velhalfy = 0.\n",
    "            df.loc[id].velhalfoldx= 0.\n",
    "            df.loc[id].velhalfoldy= 0.\n",
    "    if condition == 'simple shear in x-y':\n",
    "        for id in df.index:\n",
    "            df.loc[id].dispx = 0.5*applied* df.loc[id].coordx\n",
    "            df.loc[id].dispy = -0.5*applied* df.loc[id].coordy\n",
    "            df.loc[id].bforcex = 0.\n",
    "            df.loc[id].bforcey = 0.   \n",
    "            df.loc[id].velx = 0.\n",
    "            df.loc[id].vely = 0.\n",
    "            df.loc[id].velhalfx = 0.\n",
    "            df.loc[id].velhalfy = 0.\n",
    "            df.loc[id].velhalfoldx= 0.\n",
    "            df.loc[id].velhalfoldy= 0.\n",
    "    if condition == 'uniaxial tensile loading':\n",
    "        appres = applied\n",
    "        left_bound=df[df.coordx==df.coordx.min()].index\n",
    "        for id in left_bound:\n",
    "            df.loc[id].bforcex = -1*appres/delta\n",
    "            df.loc[id].bforcey = 0.\n",
    "            df.loc[id].dispx = 0.\n",
    "            df.loc[id].dispy = 0.\n",
    "            df.loc[id].velx = 0.\n",
    "            df.loc[id].vely = 0.\n",
    "            df.loc[id].velhalfx = 0.\n",
    "            df.loc[id].velhalfy = 0.\n",
    "            df.loc[id].velhalfoldx= 0.\n",
    "            df.loc[id].velhalfoldy= 0.\n",
    "        right_bound=df[df.coordx==df.coordx.max()].index\n",
    "        for id in right_bound:\n",
    "            df.loc[id].bforcex = 1*appres/delta\n",
    "            df.loc[id].bforcey = 0.\n",
    "            df.loc[id].dispx = 0.\n",
    "            df.loc[id].dispy = 0.\n",
    "            df.loc[id].velx = 0.\n",
    "            df.loc[id].vely = 0.\n",
    "            df.loc[id].velhalfx = 0.\n",
    "            df.loc[id].velhalfy = 0.\n",
    "            df.loc[id].velhalfoldx= 0.\n",
    "            df.loc[id].velhalfoldy= 0.\n",
    "        for id in df.drop(index=left_bound).drop(index=right_bound).index:\n",
    "            df.loc[id].bforcex = 0.\n",
    "            df.loc[id].bforcey = 0.\n",
    "            df.loc[id].dispx = 0.\n",
    "            df.loc[id].dispy = 0.\n",
    "            df.loc[id].velx = 0.\n",
    "            df.loc[id].vely = 0.\n",
    "            df.loc[id].velhalfx = 0.\n",
    "            df.loc[id].velhalfy = 0.\n",
    "            df.loc[id].velhalfoldx= 0.\n",
    "            df.loc[id].velhalfoldy= 0."
   ]
  },
  {
   "cell_type": "code",
   "execution_count": null,
   "metadata": {},
   "outputs": [],
   "source": [
    "condition_list = ['uniaxial stretch x','uniaxial stretch y','simple shear in x-y']\n",
    "disp_grad=0.001\n",
    "preprocess(df,condition_list,disp_grad)"
   ]
  },
  {
   "cell_type": "code",
   "execution_count": null,
   "metadata": {},
   "outputs": [],
   "source": [
    "df_preprocessed = df"
   ]
  },
  {
   "cell_type": "code",
   "execution_count": null,
   "metadata": {},
   "outputs": [],
   "source": [
    "iterate(df_preprocessed,'uniaxial tensile loading',1,1000,applied = E*1e-9)"
   ]
  },
  {
   "cell_type": "markdown",
   "metadata": {},
   "source": [
    "# Test Case from Benchmark Problems: Isotropic Plate under Uniaxial Tension "
   ]
  },
  {
   "cell_type": "code",
   "execution_count": 18,
   "metadata": {},
   "outputs": [],
   "source": [
    "import pandas, numpy, matplotlib\n",
    "columns = ['coordx','coordy','volume','dispx','dispy','SED','Dilatation','D1','D2','S1','S2','pforcex','pforcey','bforcex','bforcey','massvecx','massvecy','pforceoldx','pforceoldy','velhalfoldx','velhalfoldy','velx','vely','velhalfx','velhalfy']\n",
    "ndivx=100\n",
    "ndivy=50\n",
    "totalpd = ndivx*ndivy\n",
    "#30x30 Collocation points with all attributes equal to -99999. with datatype float32\n",
    "df = pandas.DataFrame(numpy.zeros((totalpd,len(columns)),dtype='float32'),columns=columns)"
   ]
  },
  {
   "cell_type": "code",
   "execution_count": 19,
   "metadata": {},
   "outputs": [],
   "source": [
    "dt = 1.\n",
    "L=1.\n",
    "W=0.5\n",
    "delta=L/ndivx\n",
    "horizon = 3.015 * delta\n",
    "thickness=delta\n",
    "current_id=0\n",
    "for i in range(0,ndivx):\n",
    "    for j in range(0,ndivy):\n",
    "        df.loc[current_id].coordx=-0.5*L+(delta/2)+(i)*delta\n",
    "        df.loc[current_id].coordy=-0.5*W+(delta/2)+(j)*delta\n",
    "        df.loc[current_id].volume = delta**2 * thickness\n",
    "        current_id=current_id+1\n",
    "plot=df.plot.scatter('coordx','coordy')\n"
   ]
  },
  {
   "cell_type": "code",
   "execution_count": 20,
   "metadata": {},
   "outputs": [],
   "source": [
    "E = 200\n",
    "nu = 1/3\n",
    "kappa = E/3/(1-2*nu)\n",
    "mu = E/2/(1+nu)\n",
    "a = 0.5 * (kappa - 2*mu)\n",
    "b = 6*mu/numpy.pi/thickness/horizon**4\n",
    "d = 2 / numpy.pi/thickness/horizon**3"
   ]
  },
  {
   "cell_type": "code",
   "execution_count": null,
   "metadata": {},
   "outputs": [],
   "source": [
    "condition_list = ['uniaxial stretch x','uniaxial stretch y','simple shear in x-y']\n",
    "disp_grad=0.001\n",
    "preprocess(df,condition_list,disp_grad)"
   ]
  },
  {
   "cell_type": "code",
   "execution_count": null,
   "metadata": {},
   "outputs": [],
   "source": [
    "df_pre=df\n",
    "df_pre"
   ]
  },
  {
   "cell_type": "code",
   "execution_count": null,
   "metadata": {},
   "outputs": [],
   "source": [
    "iterate(df,'uniaxial tensile loading',1,500,applied = E*1e-3)"
   ]
  },
  {
   "cell_type": "code",
   "execution_count": null,
   "metadata": {},
   "outputs": [],
   "source": []
  },
  {
   "cell_type": "code",
   "execution_count": null,
   "metadata": {},
   "outputs": [],
   "source": []
  }
 ],
 "metadata": {
  "kernelspec": {
   "display_name": "Python 3",
   "language": "python",
   "name": "python3"
  },
  "language_info": {
   "codemirror_mode": {
    "name": "ipython",
    "version": 3
   },
   "file_extension": ".py",
   "mimetype": "text/x-python",
   "name": "python",
   "nbconvert_exporter": "python",
   "pygments_lexer": "ipython3",
   "version": "3.6.5"
  }
 },
 "nbformat": 4,
 "nbformat_minor": 2
}
